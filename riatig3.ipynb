{
  "nbformat": 4,
  "nbformat_minor": 0,
  "metadata": {
    "colab": {
      "provenance": [],
      "gpuType": "T4"
    },
    "kernelspec": {
      "name": "python3",
      "display_name": "Python 3"
    },
    "language_info": {
      "name": "python"
    },
    "accelerator": "GPU",
    "widgets": {
      "application/vnd.jupyter.widget-state+json": {
        "e7ffa49737e347768370e2a36fa6227e": {
          "model_module": "@jupyter-widgets/controls",
          "model_name": "HBoxModel",
          "model_module_version": "1.5.0",
          "state": {
            "_dom_classes": [],
            "_model_module": "@jupyter-widgets/controls",
            "_model_module_version": "1.5.0",
            "_model_name": "HBoxModel",
            "_view_count": null,
            "_view_module": "@jupyter-widgets/controls",
            "_view_module_version": "1.5.0",
            "_view_name": "HBoxView",
            "box_style": "",
            "children": [
              "IPY_MODEL_5338f2a8602b41c589a0fd52b16b42de",
              "IPY_MODEL_4e6397cb3d2a46b9a6382167491ad882",
              "IPY_MODEL_bbfe10740c3f431890f7615c08add3fb"
            ],
            "layout": "IPY_MODEL_d4e03ec5ca9149dfb9a8450b17c84f09"
          }
        },
        "5338f2a8602b41c589a0fd52b16b42de": {
          "model_module": "@jupyter-widgets/controls",
          "model_name": "HTMLModel",
          "model_module_version": "1.5.0",
          "state": {
            "_dom_classes": [],
            "_model_module": "@jupyter-widgets/controls",
            "_model_module_version": "1.5.0",
            "_model_name": "HTMLModel",
            "_view_count": null,
            "_view_module": "@jupyter-widgets/controls",
            "_view_module_version": "1.5.0",
            "_view_name": "HTMLView",
            "description": "",
            "description_tooltip": null,
            "layout": "IPY_MODEL_e8649eac448e4a11b920e6772c30132f",
            "placeholder": "​",
            "style": "IPY_MODEL_f408ad6daebe4c818d8cdefd011fa4c5",
            "value": "Loading pipeline components...: 100%"
          }
        },
        "4e6397cb3d2a46b9a6382167491ad882": {
          "model_module": "@jupyter-widgets/controls",
          "model_name": "FloatProgressModel",
          "model_module_version": "1.5.0",
          "state": {
            "_dom_classes": [],
            "_model_module": "@jupyter-widgets/controls",
            "_model_module_version": "1.5.0",
            "_model_name": "FloatProgressModel",
            "_view_count": null,
            "_view_module": "@jupyter-widgets/controls",
            "_view_module_version": "1.5.0",
            "_view_name": "ProgressView",
            "bar_style": "success",
            "description": "",
            "description_tooltip": null,
            "layout": "IPY_MODEL_e6cf59294fac4e00a6a369e25e9ea8e4",
            "max": 7,
            "min": 0,
            "orientation": "horizontal",
            "style": "IPY_MODEL_92b9af2b034d4d92885c62445f8306b9",
            "value": 7
          }
        },
        "bbfe10740c3f431890f7615c08add3fb": {
          "model_module": "@jupyter-widgets/controls",
          "model_name": "HTMLModel",
          "model_module_version": "1.5.0",
          "state": {
            "_dom_classes": [],
            "_model_module": "@jupyter-widgets/controls",
            "_model_module_version": "1.5.0",
            "_model_name": "HTMLModel",
            "_view_count": null,
            "_view_module": "@jupyter-widgets/controls",
            "_view_module_version": "1.5.0",
            "_view_name": "HTMLView",
            "description": "",
            "description_tooltip": null,
            "layout": "IPY_MODEL_3230b85841da435b82c2571efcf3c042",
            "placeholder": "​",
            "style": "IPY_MODEL_f47c869a940843edb123c06f3ec429f2",
            "value": " 7/7 [00:37&lt;00:00,  5.33s/it]"
          }
        },
        "d4e03ec5ca9149dfb9a8450b17c84f09": {
          "model_module": "@jupyter-widgets/base",
          "model_name": "LayoutModel",
          "model_module_version": "1.2.0",
          "state": {
            "_model_module": "@jupyter-widgets/base",
            "_model_module_version": "1.2.0",
            "_model_name": "LayoutModel",
            "_view_count": null,
            "_view_module": "@jupyter-widgets/base",
            "_view_module_version": "1.2.0",
            "_view_name": "LayoutView",
            "align_content": null,
            "align_items": null,
            "align_self": null,
            "border": null,
            "bottom": null,
            "display": null,
            "flex": null,
            "flex_flow": null,
            "grid_area": null,
            "grid_auto_columns": null,
            "grid_auto_flow": null,
            "grid_auto_rows": null,
            "grid_column": null,
            "grid_gap": null,
            "grid_row": null,
            "grid_template_areas": null,
            "grid_template_columns": null,
            "grid_template_rows": null,
            "height": null,
            "justify_content": null,
            "justify_items": null,
            "left": null,
            "margin": null,
            "max_height": null,
            "max_width": null,
            "min_height": null,
            "min_width": null,
            "object_fit": null,
            "object_position": null,
            "order": null,
            "overflow": null,
            "overflow_x": null,
            "overflow_y": null,
            "padding": null,
            "right": null,
            "top": null,
            "visibility": null,
            "width": null
          }
        },
        "e8649eac448e4a11b920e6772c30132f": {
          "model_module": "@jupyter-widgets/base",
          "model_name": "LayoutModel",
          "model_module_version": "1.2.0",
          "state": {
            "_model_module": "@jupyter-widgets/base",
            "_model_module_version": "1.2.0",
            "_model_name": "LayoutModel",
            "_view_count": null,
            "_view_module": "@jupyter-widgets/base",
            "_view_module_version": "1.2.0",
            "_view_name": "LayoutView",
            "align_content": null,
            "align_items": null,
            "align_self": null,
            "border": null,
            "bottom": null,
            "display": null,
            "flex": null,
            "flex_flow": null,
            "grid_area": null,
            "grid_auto_columns": null,
            "grid_auto_flow": null,
            "grid_auto_rows": null,
            "grid_column": null,
            "grid_gap": null,
            "grid_row": null,
            "grid_template_areas": null,
            "grid_template_columns": null,
            "grid_template_rows": null,
            "height": null,
            "justify_content": null,
            "justify_items": null,
            "left": null,
            "margin": null,
            "max_height": null,
            "max_width": null,
            "min_height": null,
            "min_width": null,
            "object_fit": null,
            "object_position": null,
            "order": null,
            "overflow": null,
            "overflow_x": null,
            "overflow_y": null,
            "padding": null,
            "right": null,
            "top": null,
            "visibility": null,
            "width": null
          }
        },
        "f408ad6daebe4c818d8cdefd011fa4c5": {
          "model_module": "@jupyter-widgets/controls",
          "model_name": "DescriptionStyleModel",
          "model_module_version": "1.5.0",
          "state": {
            "_model_module": "@jupyter-widgets/controls",
            "_model_module_version": "1.5.0",
            "_model_name": "DescriptionStyleModel",
            "_view_count": null,
            "_view_module": "@jupyter-widgets/base",
            "_view_module_version": "1.2.0",
            "_view_name": "StyleView",
            "description_width": ""
          }
        },
        "e6cf59294fac4e00a6a369e25e9ea8e4": {
          "model_module": "@jupyter-widgets/base",
          "model_name": "LayoutModel",
          "model_module_version": "1.2.0",
          "state": {
            "_model_module": "@jupyter-widgets/base",
            "_model_module_version": "1.2.0",
            "_model_name": "LayoutModel",
            "_view_count": null,
            "_view_module": "@jupyter-widgets/base",
            "_view_module_version": "1.2.0",
            "_view_name": "LayoutView",
            "align_content": null,
            "align_items": null,
            "align_self": null,
            "border": null,
            "bottom": null,
            "display": null,
            "flex": null,
            "flex_flow": null,
            "grid_area": null,
            "grid_auto_columns": null,
            "grid_auto_flow": null,
            "grid_auto_rows": null,
            "grid_column": null,
            "grid_gap": null,
            "grid_row": null,
            "grid_template_areas": null,
            "grid_template_columns": null,
            "grid_template_rows": null,
            "height": null,
            "justify_content": null,
            "justify_items": null,
            "left": null,
            "margin": null,
            "max_height": null,
            "max_width": null,
            "min_height": null,
            "min_width": null,
            "object_fit": null,
            "object_position": null,
            "order": null,
            "overflow": null,
            "overflow_x": null,
            "overflow_y": null,
            "padding": null,
            "right": null,
            "top": null,
            "visibility": null,
            "width": null
          }
        },
        "92b9af2b034d4d92885c62445f8306b9": {
          "model_module": "@jupyter-widgets/controls",
          "model_name": "ProgressStyleModel",
          "model_module_version": "1.5.0",
          "state": {
            "_model_module": "@jupyter-widgets/controls",
            "_model_module_version": "1.5.0",
            "_model_name": "ProgressStyleModel",
            "_view_count": null,
            "_view_module": "@jupyter-widgets/base",
            "_view_module_version": "1.2.0",
            "_view_name": "StyleView",
            "bar_color": null,
            "description_width": ""
          }
        },
        "3230b85841da435b82c2571efcf3c042": {
          "model_module": "@jupyter-widgets/base",
          "model_name": "LayoutModel",
          "model_module_version": "1.2.0",
          "state": {
            "_model_module": "@jupyter-widgets/base",
            "_model_module_version": "1.2.0",
            "_model_name": "LayoutModel",
            "_view_count": null,
            "_view_module": "@jupyter-widgets/base",
            "_view_module_version": "1.2.0",
            "_view_name": "LayoutView",
            "align_content": null,
            "align_items": null,
            "align_self": null,
            "border": null,
            "bottom": null,
            "display": null,
            "flex": null,
            "flex_flow": null,
            "grid_area": null,
            "grid_auto_columns": null,
            "grid_auto_flow": null,
            "grid_auto_rows": null,
            "grid_column": null,
            "grid_gap": null,
            "grid_row": null,
            "grid_template_areas": null,
            "grid_template_columns": null,
            "grid_template_rows": null,
            "height": null,
            "justify_content": null,
            "justify_items": null,
            "left": null,
            "margin": null,
            "max_height": null,
            "max_width": null,
            "min_height": null,
            "min_width": null,
            "object_fit": null,
            "object_position": null,
            "order": null,
            "overflow": null,
            "overflow_x": null,
            "overflow_y": null,
            "padding": null,
            "right": null,
            "top": null,
            "visibility": null,
            "width": null
          }
        },
        "f47c869a940843edb123c06f3ec429f2": {
          "model_module": "@jupyter-widgets/controls",
          "model_name": "DescriptionStyleModel",
          "model_module_version": "1.5.0",
          "state": {
            "_model_module": "@jupyter-widgets/controls",
            "_model_module_version": "1.5.0",
            "_model_name": "DescriptionStyleModel",
            "_view_count": null,
            "_view_module": "@jupyter-widgets/base",
            "_view_module_version": "1.2.0",
            "_view_name": "StyleView",
            "description_width": ""
          }
        },
        "3d9feb3563094f17a84605d03b104d6b": {
          "model_module": "@jupyter-widgets/controls",
          "model_name": "HBoxModel",
          "model_module_version": "1.5.0",
          "state": {
            "_dom_classes": [],
            "_model_module": "@jupyter-widgets/controls",
            "_model_module_version": "1.5.0",
            "_model_name": "HBoxModel",
            "_view_count": null,
            "_view_module": "@jupyter-widgets/controls",
            "_view_module_version": "1.5.0",
            "_view_name": "HBoxView",
            "box_style": "",
            "children": [
              "IPY_MODEL_94c0c94fe09f4787b549d78b9f2aaaf4",
              "IPY_MODEL_041b4a06c646498db73f4ca3469ac844",
              "IPY_MODEL_eed4c3e057cf4f09ae4e6773b78ff01e"
            ],
            "layout": "IPY_MODEL_848b8fe72c8e493fb8fbf56fade80444"
          }
        },
        "94c0c94fe09f4787b549d78b9f2aaaf4": {
          "model_module": "@jupyter-widgets/controls",
          "model_name": "HTMLModel",
          "model_module_version": "1.5.0",
          "state": {
            "_dom_classes": [],
            "_model_module": "@jupyter-widgets/controls",
            "_model_module_version": "1.5.0",
            "_model_name": "HTMLModel",
            "_view_count": null,
            "_view_module": "@jupyter-widgets/controls",
            "_view_module_version": "1.5.0",
            "_view_name": "HTMLView",
            "description": "",
            "description_tooltip": null,
            "layout": "IPY_MODEL_f02786a32c1a4bf8b7271ca42e146796",
            "placeholder": "​",
            "style": "IPY_MODEL_c985f17351734d47bdd7908d33ae5f3c",
            "value": "  0%"
          }
        },
        "041b4a06c646498db73f4ca3469ac844": {
          "model_module": "@jupyter-widgets/controls",
          "model_name": "FloatProgressModel",
          "model_module_version": "1.5.0",
          "state": {
            "_dom_classes": [],
            "_model_module": "@jupyter-widgets/controls",
            "_model_module_version": "1.5.0",
            "_model_name": "FloatProgressModel",
            "_view_count": null,
            "_view_module": "@jupyter-widgets/controls",
            "_view_module_version": "1.5.0",
            "_view_name": "ProgressView",
            "bar_style": "",
            "description": "",
            "description_tooltip": null,
            "layout": "IPY_MODEL_6c653d3b81e641dcb3983d5cb3150a4e",
            "max": 50,
            "min": 0,
            "orientation": "horizontal",
            "style": "IPY_MODEL_53ac3136ae564fb08b9435e28c220165",
            "value": 0
          }
        },
        "eed4c3e057cf4f09ae4e6773b78ff01e": {
          "model_module": "@jupyter-widgets/controls",
          "model_name": "HTMLModel",
          "model_module_version": "1.5.0",
          "state": {
            "_dom_classes": [],
            "_model_module": "@jupyter-widgets/controls",
            "_model_module_version": "1.5.0",
            "_model_name": "HTMLModel",
            "_view_count": null,
            "_view_module": "@jupyter-widgets/controls",
            "_view_module_version": "1.5.0",
            "_view_name": "HTMLView",
            "description": "",
            "description_tooltip": null,
            "layout": "IPY_MODEL_8c21eb8e71994fb79c36ff5990979988",
            "placeholder": "​",
            "style": "IPY_MODEL_228bcc5ff7474e30a7c6b26c09ccf048",
            "value": " 0/50 [00:00&lt;?, ?it/s]"
          }
        },
        "848b8fe72c8e493fb8fbf56fade80444": {
          "model_module": "@jupyter-widgets/base",
          "model_name": "LayoutModel",
          "model_module_version": "1.2.0",
          "state": {
            "_model_module": "@jupyter-widgets/base",
            "_model_module_version": "1.2.0",
            "_model_name": "LayoutModel",
            "_view_count": null,
            "_view_module": "@jupyter-widgets/base",
            "_view_module_version": "1.2.0",
            "_view_name": "LayoutView",
            "align_content": null,
            "align_items": null,
            "align_self": null,
            "border": null,
            "bottom": null,
            "display": null,
            "flex": null,
            "flex_flow": null,
            "grid_area": null,
            "grid_auto_columns": null,
            "grid_auto_flow": null,
            "grid_auto_rows": null,
            "grid_column": null,
            "grid_gap": null,
            "grid_row": null,
            "grid_template_areas": null,
            "grid_template_columns": null,
            "grid_template_rows": null,
            "height": null,
            "justify_content": null,
            "justify_items": null,
            "left": null,
            "margin": null,
            "max_height": null,
            "max_width": null,
            "min_height": null,
            "min_width": null,
            "object_fit": null,
            "object_position": null,
            "order": null,
            "overflow": null,
            "overflow_x": null,
            "overflow_y": null,
            "padding": null,
            "right": null,
            "top": null,
            "visibility": null,
            "width": null
          }
        },
        "f02786a32c1a4bf8b7271ca42e146796": {
          "model_module": "@jupyter-widgets/base",
          "model_name": "LayoutModel",
          "model_module_version": "1.2.0",
          "state": {
            "_model_module": "@jupyter-widgets/base",
            "_model_module_version": "1.2.0",
            "_model_name": "LayoutModel",
            "_view_count": null,
            "_view_module": "@jupyter-widgets/base",
            "_view_module_version": "1.2.0",
            "_view_name": "LayoutView",
            "align_content": null,
            "align_items": null,
            "align_self": null,
            "border": null,
            "bottom": null,
            "display": null,
            "flex": null,
            "flex_flow": null,
            "grid_area": null,
            "grid_auto_columns": null,
            "grid_auto_flow": null,
            "grid_auto_rows": null,
            "grid_column": null,
            "grid_gap": null,
            "grid_row": null,
            "grid_template_areas": null,
            "grid_template_columns": null,
            "grid_template_rows": null,
            "height": null,
            "justify_content": null,
            "justify_items": null,
            "left": null,
            "margin": null,
            "max_height": null,
            "max_width": null,
            "min_height": null,
            "min_width": null,
            "object_fit": null,
            "object_position": null,
            "order": null,
            "overflow": null,
            "overflow_x": null,
            "overflow_y": null,
            "padding": null,
            "right": null,
            "top": null,
            "visibility": null,
            "width": null
          }
        },
        "c985f17351734d47bdd7908d33ae5f3c": {
          "model_module": "@jupyter-widgets/controls",
          "model_name": "DescriptionStyleModel",
          "model_module_version": "1.5.0",
          "state": {
            "_model_module": "@jupyter-widgets/controls",
            "_model_module_version": "1.5.0",
            "_model_name": "DescriptionStyleModel",
            "_view_count": null,
            "_view_module": "@jupyter-widgets/base",
            "_view_module_version": "1.2.0",
            "_view_name": "StyleView",
            "description_width": ""
          }
        },
        "6c653d3b81e641dcb3983d5cb3150a4e": {
          "model_module": "@jupyter-widgets/base",
          "model_name": "LayoutModel",
          "model_module_version": "1.2.0",
          "state": {
            "_model_module": "@jupyter-widgets/base",
            "_model_module_version": "1.2.0",
            "_model_name": "LayoutModel",
            "_view_count": null,
            "_view_module": "@jupyter-widgets/base",
            "_view_module_version": "1.2.0",
            "_view_name": "LayoutView",
            "align_content": null,
            "align_items": null,
            "align_self": null,
            "border": null,
            "bottom": null,
            "display": null,
            "flex": null,
            "flex_flow": null,
            "grid_area": null,
            "grid_auto_columns": null,
            "grid_auto_flow": null,
            "grid_auto_rows": null,
            "grid_column": null,
            "grid_gap": null,
            "grid_row": null,
            "grid_template_areas": null,
            "grid_template_columns": null,
            "grid_template_rows": null,
            "height": null,
            "justify_content": null,
            "justify_items": null,
            "left": null,
            "margin": null,
            "max_height": null,
            "max_width": null,
            "min_height": null,
            "min_width": null,
            "object_fit": null,
            "object_position": null,
            "order": null,
            "overflow": null,
            "overflow_x": null,
            "overflow_y": null,
            "padding": null,
            "right": null,
            "top": null,
            "visibility": null,
            "width": null
          }
        },
        "53ac3136ae564fb08b9435e28c220165": {
          "model_module": "@jupyter-widgets/controls",
          "model_name": "ProgressStyleModel",
          "model_module_version": "1.5.0",
          "state": {
            "_model_module": "@jupyter-widgets/controls",
            "_model_module_version": "1.5.0",
            "_model_name": "ProgressStyleModel",
            "_view_count": null,
            "_view_module": "@jupyter-widgets/base",
            "_view_module_version": "1.2.0",
            "_view_name": "StyleView",
            "bar_color": null,
            "description_width": ""
          }
        },
        "8c21eb8e71994fb79c36ff5990979988": {
          "model_module": "@jupyter-widgets/base",
          "model_name": "LayoutModel",
          "model_module_version": "1.2.0",
          "state": {
            "_model_module": "@jupyter-widgets/base",
            "_model_module_version": "1.2.0",
            "_model_name": "LayoutModel",
            "_view_count": null,
            "_view_module": "@jupyter-widgets/base",
            "_view_module_version": "1.2.0",
            "_view_name": "LayoutView",
            "align_content": null,
            "align_items": null,
            "align_self": null,
            "border": null,
            "bottom": null,
            "display": null,
            "flex": null,
            "flex_flow": null,
            "grid_area": null,
            "grid_auto_columns": null,
            "grid_auto_flow": null,
            "grid_auto_rows": null,
            "grid_column": null,
            "grid_gap": null,
            "grid_row": null,
            "grid_template_areas": null,
            "grid_template_columns": null,
            "grid_template_rows": null,
            "height": null,
            "justify_content": null,
            "justify_items": null,
            "left": null,
            "margin": null,
            "max_height": null,
            "max_width": null,
            "min_height": null,
            "min_width": null,
            "object_fit": null,
            "object_position": null,
            "order": null,
            "overflow": null,
            "overflow_x": null,
            "overflow_y": null,
            "padding": null,
            "right": null,
            "top": null,
            "visibility": null,
            "width": null
          }
        },
        "228bcc5ff7474e30a7c6b26c09ccf048": {
          "model_module": "@jupyter-widgets/controls",
          "model_name": "DescriptionStyleModel",
          "model_module_version": "1.5.0",
          "state": {
            "_model_module": "@jupyter-widgets/controls",
            "_model_module_version": "1.5.0",
            "_model_name": "DescriptionStyleModel",
            "_view_count": null,
            "_view_module": "@jupyter-widgets/base",
            "_view_module_version": "1.2.0",
            "_view_name": "StyleView",
            "description_width": ""
          }
        }
      }
    }
  },
  "cells": [
    {
      "cell_type": "code",
      "source": [
        "# Install necessary packages\n",
        "!pip install nltk==3.5\n",
        "!pip install diffusers transformers scipy pillow\n"
      ],
      "metadata": {
        "colab": {
          "base_uri": "https://localhost:8080/"
        },
        "id": "IudUY5Pqtk_d",
        "outputId": "c4d7f15e-d878-4924-ecea-ff72234c8684"
      },
      "execution_count": null,
      "outputs": [
        {
          "output_type": "stream",
          "name": "stdout",
          "text": [
            "Requirement already satisfied: nltk==3.5 in /usr/local/lib/python3.10/dist-packages (3.5)\n",
            "Requirement already satisfied: click in /usr/local/lib/python3.10/dist-packages (from nltk==3.5) (8.1.7)\n",
            "Requirement already satisfied: joblib in /usr/local/lib/python3.10/dist-packages (from nltk==3.5) (1.4.2)\n",
            "Requirement already satisfied: regex in /usr/local/lib/python3.10/dist-packages (from nltk==3.5) (2024.9.11)\n",
            "Requirement already satisfied: tqdm in /usr/local/lib/python3.10/dist-packages (from nltk==3.5) (4.66.6)\n",
            "Requirement already satisfied: diffusers in /usr/local/lib/python3.10/dist-packages (0.31.0)\n",
            "Requirement already satisfied: transformers in /usr/local/lib/python3.10/dist-packages (4.27.1)\n",
            "Requirement already satisfied: scipy in /usr/local/lib/python3.10/dist-packages (1.13.1)\n",
            "Requirement already satisfied: pillow in /usr/local/lib/python3.10/dist-packages (11.0.0)\n",
            "Requirement already satisfied: importlib-metadata in /usr/local/lib/python3.10/dist-packages (from diffusers) (8.5.0)\n",
            "Requirement already satisfied: filelock in /usr/local/lib/python3.10/dist-packages (from diffusers) (3.16.1)\n",
            "Requirement already satisfied: huggingface-hub>=0.23.2 in /usr/local/lib/python3.10/dist-packages (from diffusers) (0.26.2)\n",
            "Requirement already satisfied: numpy in /usr/local/lib/python3.10/dist-packages (from diffusers) (1.26.4)\n",
            "Requirement already satisfied: regex!=2019.12.17 in /usr/local/lib/python3.10/dist-packages (from diffusers) (2024.9.11)\n",
            "Requirement already satisfied: requests in /usr/local/lib/python3.10/dist-packages (from diffusers) (2.32.3)\n",
            "Requirement already satisfied: safetensors>=0.3.1 in /usr/local/lib/python3.10/dist-packages (from diffusers) (0.4.5)\n",
            "Requirement already satisfied: packaging>=20.0 in /usr/local/lib/python3.10/dist-packages (from transformers) (24.2)\n",
            "Requirement already satisfied: pyyaml>=5.1 in /usr/local/lib/python3.10/dist-packages (from transformers) (6.0.2)\n",
            "Requirement already satisfied: tokenizers!=0.11.3,<0.14,>=0.11.1 in /usr/local/lib/python3.10/dist-packages (from transformers) (0.13.3)\n",
            "Requirement already satisfied: tqdm>=4.27 in /usr/local/lib/python3.10/dist-packages (from transformers) (4.66.6)\n",
            "Requirement already satisfied: fsspec>=2023.5.0 in /usr/local/lib/python3.10/dist-packages (from huggingface-hub>=0.23.2->diffusers) (2024.10.0)\n",
            "Requirement already satisfied: typing-extensions>=3.7.4.3 in /usr/local/lib/python3.10/dist-packages (from huggingface-hub>=0.23.2->diffusers) (4.12.2)\n",
            "Requirement already satisfied: zipp>=3.20 in /usr/local/lib/python3.10/dist-packages (from importlib-metadata->diffusers) (3.21.0)\n",
            "Requirement already satisfied: charset-normalizer<4,>=2 in /usr/local/lib/python3.10/dist-packages (from requests->diffusers) (3.4.0)\n",
            "Requirement already satisfied: idna<4,>=2.5 in /usr/local/lib/python3.10/dist-packages (from requests->diffusers) (3.10)\n",
            "Requirement already satisfied: urllib3<3,>=1.21.1 in /usr/local/lib/python3.10/dist-packages (from requests->diffusers) (2.2.3)\n",
            "Requirement already satisfied: certifi>=2017.4.17 in /usr/local/lib/python3.10/dist-packages (from requests->diffusers) (2024.8.30)\n"
          ]
        }
      ]
    },
    {
      "cell_type": "markdown",
      "source": [
        "# 2. Import Libraries\n",
        "Import essential libraries for text manipulation, image generation, and evaluation."
      ],
      "metadata": {
        "id": "5oO8Bo_ctmgD"
      }
    },
    {
      "cell_type": "code",
      "source": [
        "# Import libraries\n",
        "import os\n",
        "import torch\n",
        "import nltk\n",
        "nltk.download('punkt')\n",
        "from transformers import CLIPProcessor, CLIPModel\n",
        "from nltk.tokenize import word_tokenize\n",
        "from scipy.spatial.distance import cosine\n",
        "import numpy as np\n",
        "from PIL import Image\n",
        "from diffusers import StableDiffusionPipeline\n",
        "from random import choice\n"
      ],
      "metadata": {
        "colab": {
          "base_uri": "https://localhost:8080/"
        },
        "id": "iqxXeuo0trW9",
        "outputId": "d2fbf02f-3315-48d1-851d-9478ea9e1b7a"
      },
      "execution_count": null,
      "outputs": [
        {
          "output_type": "stream",
          "name": "stderr",
          "text": [
            "[nltk_data] Downloading package punkt to /root/nltk_data...\n",
            "[nltk_data]   Package punkt is already up-to-date!\n"
          ]
        }
      ]
    },
    {
      "cell_type": "markdown",
      "source": [
        "# 3. Initialize Models (White-Box Setup)\n",
        "In the white-box setup, the full access to the model is available. Initialize both CLIP for text-image similarity evaluation and Stable Diffusion for text-to-image generation."
      ],
      "metadata": {
        "id": "FmHdbc_AtxKk"
      }
    },
    {
      "cell_type": "code",
      "source": [
        "# Initialize device\n",
        "device = \"cuda\" if torch.cuda.is_available() else \"cpu\"\n",
        "\n",
        "# Load CLIP model for evaluating text-image similarity\n",
        "clip_model = CLIPModel.from_pretrained(\"openai/clip-vit-base-patch32\").to(device)\n",
        "clip_processor = CLIPProcessor.from_pretrained(\"openai/clip-vit-base-patch32\")\n",
        "\n",
        "# Load Stable Diffusion for text-to-image generation\n",
        "model_id = \"CompVis/stable-diffusion-v1-4\"\n",
        "pipe = StableDiffusionPipeline.from_pretrained(model_id, torch_dtype=torch.float16).to(device)\n"
      ],
      "metadata": {
        "colab": {
          "base_uri": "https://localhost:8080/",
          "height": 160,
          "referenced_widgets": [
            "e7ffa49737e347768370e2a36fa6227e",
            "5338f2a8602b41c589a0fd52b16b42de",
            "4e6397cb3d2a46b9a6382167491ad882",
            "bbfe10740c3f431890f7615c08add3fb",
            "d4e03ec5ca9149dfb9a8450b17c84f09",
            "e8649eac448e4a11b920e6772c30132f",
            "f408ad6daebe4c818d8cdefd011fa4c5",
            "e6cf59294fac4e00a6a369e25e9ea8e4",
            "92b9af2b034d4d92885c62445f8306b9",
            "3230b85841da435b82c2571efcf3c042",
            "f47c869a940843edb123c06f3ec429f2"
          ]
        },
        "id": "iKK4k6Dbtzdg",
        "outputId": "d9f5a8dc-2de6-41dd-8df4-f48b2807dcf3"
      },
      "execution_count": null,
      "outputs": [
        {
          "output_type": "display_data",
          "data": {
            "text/plain": [
              "Loading pipeline components...:   0%|          | 0/7 [00:00<?, ?it/s]"
            ],
            "application/vnd.jupyter.widget-view+json": {
              "version_major": 2,
              "version_minor": 0,
              "model_id": "e7ffa49737e347768370e2a36fa6227e"
            }
          },
          "metadata": {}
        },
        {
          "output_type": "stream",
          "name": "stderr",
          "text": [
            "`text_config_dict` is provided which will be used to initialize `CLIPTextConfig`. The value `text_config[\"id2label\"]` will be overriden.\n",
            "Pipelines loaded with `dtype=torch.float16` cannot run with `cpu` device. It is not recommended to move them to `cpu` as running them will fail. Please make sure to use an accelerator to run the pipeline in inference, due to the lack of support for`float16` operations on this device in PyTorch. Please, remove the `torch_dtype=torch.float16` argument, or use another device for inference.\n",
            "Pipelines loaded with `dtype=torch.float16` cannot run with `cpu` device. It is not recommended to move them to `cpu` as running them will fail. Please make sure to use an accelerator to run the pipeline in inference, due to the lack of support for`float16` operations on this device in PyTorch. Please, remove the `torch_dtype=torch.float16` argument, or use another device for inference.\n",
            "Pipelines loaded with `dtype=torch.float16` cannot run with `cpu` device. It is not recommended to move them to `cpu` as running them will fail. Please make sure to use an accelerator to run the pipeline in inference, due to the lack of support for`float16` operations on this device in PyTorch. Please, remove the `torch_dtype=torch.float16` argument, or use another device for inference.\n",
            "Pipelines loaded with `dtype=torch.float16` cannot run with `cpu` device. It is not recommended to move them to `cpu` as running them will fail. Please make sure to use an accelerator to run the pipeline in inference, due to the lack of support for`float16` operations on this device in PyTorch. Please, remove the `torch_dtype=torch.float16` argument, or use another device for inference.\n"
          ]
        }
      ]
    },
    {
      "cell_type": "markdown",
      "source": [
        "# 4. Enhanced Text Mutation and Crossover (For Stealthiness)"
      ],
      "metadata": {
        "id": "5ETK2xuEvg0y"
      }
    },
    {
      "cell_type": "markdown",
      "source": [
        "## Enhanced Mutation Function (with Bypass Strategy)\n",
        "The mutation function has been refined to include content moderation bypass and obfuscation techniques. It replaces flagged words with semantic substitutions, homophones, and misspellings."
      ],
      "metadata": {
        "id": "p7rrwIl5vkjd"
      }
    },
    {
      "cell_type": "code",
      "source": [
        "from nltk.corpus import wordnet\n",
        "\n",
        "# A list of common flagged words and their substitutes for moderation bypass\n",
        "nsfw_keywords = {\n",
        "    'sex': ['intimacy', 'romance', 'affection'],\n",
        "    'violence': ['aggression', 'combat', 'conflict'],\n",
        "    'drugs': ['medication', 'treatment', 'remedy'],\n",
        "    'hate': ['dislike', 'discord', 'rivalry'],\n",
        "    'kill': ['eliminate', 'remove', 'defeat']\n",
        "}\n",
        "\n",
        "# Dictionary of common homophones\n",
        "homophones = {\n",
        "    'sea': 'see',\n",
        "    'hear': 'here',\n",
        "    'night': 'knight',\n",
        "    'break': 'brake',\n",
        "    'flour': 'flower',\n",
        "    'pair': 'pear',\n",
        "}\n",
        "\n",
        "def bypass_content_moderation(text):\n",
        "    \"\"\"Substitute flagged words with safe alternatives to bypass content moderation.\"\"\"\n",
        "    words = word_tokenize(text)\n",
        "    new_words = []\n",
        "\n",
        "    for word in words:\n",
        "        if word.lower() in nsfw_keywords:\n",
        "            # Randomly choose a synonym or alternative\n",
        "            new_word = choice(nsfw_keywords[word.lower()])\n",
        "            new_words.append(new_word)\n",
        "        else:\n",
        "            new_words.append(word)\n",
        "\n",
        "    return \" \".join(new_words)\n",
        "\n",
        "def obfuscate_with_homophones(text):\n",
        "    \"\"\"Substitute words with homophones to bypass filters.\"\"\"\n",
        "    words = word_tokenize(text)\n",
        "    obfuscated_tokens = []\n",
        "\n",
        "    for word in words:\n",
        "        if word.lower() in homophones:\n",
        "            new_word = homophones[word.lower()]\n",
        "            obfuscated_tokens.append(new_word)\n",
        "        else:\n",
        "            obfuscated_tokens.append(word)\n",
        "\n",
        "    return \" \".join(obfuscated_tokens)\n",
        "\n",
        "def mutate_text_with_bypass(text, mutation_probability=0.2):\n",
        "    \"\"\"Enhance mutation to include content moderation bypass.\"\"\"\n",
        "    tokens = word_tokenize(text)\n",
        "    mutated_tokens = []\n",
        "\n",
        "    for word in tokens:\n",
        "        # Apply the bypass strategy with some probability\n",
        "        if np.random.rand() < mutation_probability:\n",
        "            word = bypass_content_moderation(word)\n",
        "            word = obfuscate_with_homophones(word)\n",
        "        mutated_tokens.append(word)\n",
        "\n",
        "    return \" \".join(mutated_tokens)\n",
        "\n",
        "def crossover_text(parent1, parent2):\n",
        "    \"\"\"Create a child by combining two parent strings.\"\"\"\n",
        "    tokens1 = word_tokenize(parent1)\n",
        "    tokens2 = word_tokenize(parent2)\n",
        "    crossover_point = len(tokens1) // 2\n",
        "    child = tokens1[:crossover_point] + tokens2[crossover_point:]\n",
        "    return \" \".join(child)\n"
      ],
      "metadata": {
        "id": "ezS3Y5jJviCF"
      },
      "execution_count": null,
      "outputs": []
    },
    {
      "cell_type": "markdown",
      "source": [
        "# 5. Content Moderation Bypass and Stealthiness Evaluation"
      ],
      "metadata": {
        "id": "UWJIKHmovt87"
      }
    },
    {
      "cell_type": "markdown",
      "source": [
        "## Perplexity Evaluation (Stealthiness)\n",
        "Use perplexity to evaluate if the generated text appears natural and would evade content filters."
      ],
      "metadata": {
        "id": "ns9ncCJWvu_x"
      }
    },
    {
      "cell_type": "code",
      "source": [
        "from transformers import GPT2LMHeadModel, GPT2Tokenizer\n",
        "\n",
        "# Load GPT-2 model for calculating perplexity\n",
        "gpt2_model = GPT2LMHeadModel.from_pretrained(\"gpt2\").to(device)\n",
        "gpt2_tokenizer = GPT2Tokenizer.from_pretrained(\"gpt2\")\n",
        "\n",
        "def calculate_perplexity(text):\n",
        "    \"\"\"Calculate perplexity to measure the naturalness of the text.\"\"\"\n",
        "    inputs = gpt2_tokenizer(text, return_tensors=\"pt\").to(device)\n",
        "    outputs = gpt2_model(**inputs, labels=inputs.input_ids)\n",
        "    loss = outputs.loss\n",
        "    perplexity = torch.exp(loss)\n",
        "    return perplexity.item()\n"
      ],
      "metadata": {
        "id": "XSs4t9Xvvzrz"
      },
      "execution_count": null,
      "outputs": []
    },
    {
      "cell_type": "markdown",
      "source": [
        "# 6. Fitness Function (with Content Moderation Bypass and Stealthiness)\n",
        "The fitness function evaluates both the text-to-image similarity (via CLIP) and the naturalness (via perplexity). It also ensures that the adversarial text is not too similar to the original and bypasses content filters."
      ],
      "metadata": {
        "id": "jdbioEYOv6cx"
      }
    },
    {
      "cell_type": "code",
      "source": [
        "def fitness_function(adversarial_text, target_image, original_text, eta=0.5):\n",
        "    \"\"\"Evaluate the fitness of adversarial text.\"\"\"\n",
        "    # Process text embedding\n",
        "    text_inputs = clip_processor(text=adversarial_text, return_tensors=\"pt\", padding=True, truncation=True).to(device)\n",
        "    text_embedding = clip_model.get_text_features(**text_inputs).detach().cpu().numpy().flatten()\n",
        "\n",
        "    # Process target image embedding\n",
        "    image_inputs = clip_processor(images=target_image, return_tensors=\"pt\").to(device)\n",
        "    image_embedding = clip_model.get_image_features(**image_inputs).detach().cpu().numpy().flatten()\n",
        "\n",
        "    # Semantic similarity between text and target image\n",
        "    semantic_similarity = 1 - cosine(text_embedding, image_embedding)\n",
        "\n",
        "    # Process original text embedding for dissimilarity calculation\n",
        "    original_text_inputs = clip_processor(text=original_text, return_tensors=\"pt\", padding=True, truncation=True).to(device)\n",
        "    original_text_embedding = clip_model.get_text_features(**original_text_inputs).detach().cpu().numpy().flatten()\n",
        "    text_distance = 1 - cosine(text_embedding, original_text_embedding)\n",
        "\n",
        "    # Perplexity score (naturalness of the text)\n",
        "    perplexity = calculate_perplexity(adversarial_text)\n",
        "\n",
        "    # Combining all factors: high semantic similarity with target, low similarity with original, and low perplexity\n",
        "    if text_distance > eta and perplexity < 10:  # Arbitrary threshold for perplexity\n",
        "        return semantic_similarity\n",
        "    else:\n",
        "        return 0\n"
      ],
      "metadata": {
        "id": "a15YIFlBv3UX"
      },
      "execution_count": null,
      "outputs": []
    },
    {
      "cell_type": "markdown",
      "source": [
        "# 7. Genetic Optimization with Content Moderation Bypass\n",
        "The genetic optimization process generates adversarial text by iterating through mutations, crossover, and image generation. It now includes the content moderation bypass strategy."
      ],
      "metadata": {
        "id": "o16HYd7Ev_0p"
      }
    },
    {
      "cell_type": "code",
      "source": [
        "def genetic_optimization_with_bypass(target_image, original_text, generations=10, population_size=20):\n",
        "    \"\"\"Perform genetic optimization to generate adversarial text.\"\"\"\n",
        "    population = [mutate_text_with_bypass(original_text) for _ in range(population_size)]\n",
        "    for generation in range(generations):\n",
        "        # Evaluate fitness\n",
        "        scores = [fitness_function(text, target_image, original_text) for text in population]\n",
        "        # Select top candidates\n",
        "        selected_indices = np.argsort(scores)[-5:]\n",
        "        selected_population = [population[i] for i in selected_indices]\n",
        "        # Perform crossover and mutation\n",
        "        new_population = []\n",
        "        for i in range(population_size):\n",
        "            parent1, parent2 = np.random.choice(selected_population, 2)\n",
        "            child = crossover_text(parent1, parent2)\n",
        "            child = mutate_text_with_bypass(child)\n",
        "            new_population.append(child)\n",
        "        population = new_population\n",
        "        print(f\"Generation {generation + 1}: Best Score = {max(scores)}\")\n",
        "\n",
        "        # Generate and save images for each individual\n",
        "        for idx, individual in enumerate(population):\n",
        "            image = pipe(individual).images[0]\n",
        "            save_generated_image(image, f\"gen_{generation + 1}_ind_{idx + 1}.png\")\n",
        "\n",
        "    # Return the best candidate\n",
        "    best_idx = np.argmax(scores)\n",
        "    return population[best_idx]\n"
      ],
      "metadata": {
        "id": "G0fOtKxnwA4Q"
      },
      "execution_count": null,
      "outputs": []
    },
    {
      "cell_type": "markdown",
      "source": [
        "# 8. Save Generated Images\n",
        "Ensure that generated images are saved for further evaluation of their similarity to the target image."
      ],
      "metadata": {
        "id": "HEtnodS5wFff"
      }
    },
    {
      "cell_type": "code",
      "source": [
        "def save_generated_image(image, filename):\n",
        "    \"\"\"Save generated image to disk.\"\"\"\n",
        "    output_path = f\"/content/drive/MyDrive/RIATIG/attack/generated_images1/{filename}\"\n",
        "    image.save(output_path)\n"
      ],
      "metadata": {
        "id": "OLsULt8-wHkr"
      },
      "execution_count": null,
      "outputs": []
    },
    {
      "cell_type": "markdown",
      "source": [
        "# 9. Evaluate Metrics (R1 Precision and Perplexity)\n",
        "Evaluate the effectiveness of the adversarial text using R1 Precision (for image similarity) and Perplexity (for text naturalness)."
      ],
      "metadata": {
        "id": "wiPPtG6twUPv"
      }
    },
    {
      "cell_type": "markdown",
      "source": [
        "## R1 Precision"
      ],
      "metadata": {
        "id": "GK7bEx8KwXB1"
      }
    },
    {
      "cell_type": "code",
      "source": [
        "def calculate_r1_precision(generated_images, target_text, k=0.9):\n",
        "  \"\"\"\n",
        "  Calculates the R1 precision metric.\n",
        "  \"\"\"\n",
        "  # Load CLIP model and processor, moving them to the appropriate device\n",
        "  clip_model = CLIPModel.from_pretrained(\"openai/clip-vit-base-patch32\").to(device) # Move model to device\n",
        "  clip_processor = CLIPProcessor.from_pretrained(\"openai/clip-vit-base-patch32\")\n",
        "\n",
        "  count = 0\n",
        "  for img in generated_images:\n",
        "      # Process the image and text separately\n",
        "      image_inputs = clip_processor(images=img, return_tensors=\"pt\").to(device)\n",
        "      text_inputs = clip_processor(text=target_text, return_tensors=\"pt\").to(device)\n",
        "      # Extract the features\n",
        "      image_embedding = clip_model.get_image_features(**image_inputs).detach().cpu().numpy().flatten()\n",
        "      text_embedding = clip_model.get_text_features(**text_inputs).detach().cpu().numpy().flatten()\n",
        "      # Calculate cosine similarity and update count if similarity is within threshold\n",
        "      if cosine(image_embedding, text_embedding) < k: # Update this line!\n",
        "          count += 1\n",
        "\n",
        "  return count / len(generated_images)"
      ],
      "metadata": {
        "id": "WuEc6UtbwYE3"
      },
      "execution_count": null,
      "outputs": []
    },
    {
      "cell_type": "markdown",
      "source": [
        "## Perplexity"
      ],
      "metadata": {
        "id": "YdkjAY2_wgF6"
      }
    },
    {
      "cell_type": "code",
      "source": [
        "# Calculate the perplexity of the adversarial text to evaluate naturalness\n",
        "def evaluate_perplexity(adversarial_text):\n",
        "    return calculate_perplexity(adversarial_text)\n"
      ],
      "metadata": {
        "id": "AzbE47c9whTR"
      },
      "execution_count": null,
      "outputs": []
    },
    {
      "cell_type": "markdown",
      "source": [
        "# 10. Full Pipeline Execution (White-Box)\n",
        "Finally, execute the full pipeline with adversarial text generation, image generation, and evaluation metrics."
      ],
      "metadata": {
        "id": "22Se8HkWwmT0"
      }
    },
    {
      "cell_type": "code",
      "source": [
        "# Example inputs\n",
        "original_text = \"A group of people discussing harmful content.\"\n",
        "target_image = Image.open(\"/content/drive/MyDrive/RIATIG/attack/target.png\")\n",
        "\n",
        "# Perform genetic optimization and bypass content moderation\n",
        "adversarial_text = genetic_optimization_with_bypass(target_image, original_text)\n",
        "\n",
        "# Load generated images\n",
        "generated_images_folder = \"/content/drive/MyDrive/RIATIG/attack/generated_images1\"\n",
        "generated_images = [Image.open(os.path.join(generated_images_folder, img)) for img in os.listdir(generated_images_folder)]\n",
        "\n",
        "# Evaluate metrics\n",
        "r1_score = calculate_r1_precision(generated_images, original_text)\n",
        "ppl_score = evaluate_perplexity(adversarial_text)\n",
        "\n",
        "print(f\"Adversarial Text: {adversarial_text}\")\n",
        "print(f\"R1 Score: {r1_score}\")\n",
        "print(f\"Perplexity (PPL): {ppl_score}\")\n"
      ],
      "metadata": {
        "colab": {
          "base_uri": "https://localhost:8080/",
          "height": 67,
          "referenced_widgets": [
            "3d9feb3563094f17a84605d03b104d6b",
            "94c0c94fe09f4787b549d78b9f2aaaf4",
            "041b4a06c646498db73f4ca3469ac844",
            "eed4c3e057cf4f09ae4e6773b78ff01e",
            "848b8fe72c8e493fb8fbf56fade80444",
            "f02786a32c1a4bf8b7271ca42e146796",
            "c985f17351734d47bdd7908d33ae5f3c",
            "6c653d3b81e641dcb3983d5cb3150a4e",
            "53ac3136ae564fb08b9435e28c220165",
            "8c21eb8e71994fb79c36ff5990979988",
            "228bcc5ff7474e30a7c6b26c09ccf048"
          ]
        },
        "id": "fzR0RB1bwjTS",
        "outputId": "c53c6d68-8b63-4d5b-f48b-169e917a0032"
      },
      "execution_count": null,
      "outputs": [
        {
          "output_type": "stream",
          "name": "stdout",
          "text": [
            "Generation 1: Best Score = 0\n"
          ]
        },
        {
          "output_type": "display_data",
          "data": {
            "text/plain": [
              "  0%|          | 0/50 [00:00<?, ?it/s]"
            ],
            "application/vnd.jupyter.widget-view+json": {
              "version_major": 2,
              "version_minor": 0,
              "model_id": "3d9feb3563094f17a84605d03b104d6b"
            }
          },
          "metadata": {}
        }
      ]
    }
  ]
}